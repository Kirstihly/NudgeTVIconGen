{
 "cells": [
  {
   "cell_type": "code",
   "execution_count": 1,
   "metadata": {
    "collapsed": true
   },
   "outputs": [],
   "source": [
    "import bitly_api\n",
    "\n",
    "API_USER = \"kirstinewcentury\"\n",
    "API_KEY = \"R_d9abf94c72b34a988fd90ed182c014ff\"\n",
    "b = bitly_api.Connection(API_USER, API_KEY)\n",
    "\n",
    "from datetime import datetime\n",
    "from pytz import timezone\n",
    "\n",
    "def URL_encoding(name):\n",
    "    \n",
    "    eastern = datetime.now(timezone('US/Eastern')) # Ensure the correctness\n",
    "    year = eastern.year\n",
    "\n",
    "    if eastern.month > 2 and eastern.month <= 5:\n",
    "        season = 'spring'\n",
    "    elif eastern.month > 5 and eastern.month <= 8:\n",
    "        season = 'summer'\n",
    "    elif eastern.month > 8 and eastern.month <= 11:\n",
    "        season = 'fall'\n",
    "    else:\n",
    "        season = 'winter'\n",
    "\n",
    "    utm_source = 'nudgetv.com'\n",
    "    utm_medium = 'nudgeicon'\n",
    "    utm_campaign = 'nudge'+season+str(year) #Other specification\n",
    "    longurl = name+'?utm_source='+utm_source+'&utm_medium='+utm_medium+'&utm_campaign='+utm_campaign\n",
    "    \n",
    "    return longurl\n",
    "\n",
    "def Short_encoding(longurl, b):\n",
    "    response = b.shorten(uri = longurl)\n",
    "    return response['url']"
   ]
  },
  {
   "cell_type": "code",
   "execution_count": 2,
   "metadata": {
    "collapsed": true
   },
   "outputs": [],
   "source": [
    "import numpy as np\n",
    "from math import sin, cos, pi\n",
    "from PIL import Image\n",
    "from PIL import ImageDraw\n",
    "from matplotlib.pyplot import imshow\n",
    "\n",
    "COLOR_RED = (153, 255, 153)\n",
    "COLOR_WHITE = (255, 255, 255)\n",
    "ROUND = 6\n",
    "CAMERA_WIDE = 800\n",
    "CAMERA_HEIGHT = 500\n",
    "LENS_SIZE = 80\n",
    "FLASH_SIZE = 80\n",
    "BUTTON_LENTH = 100\n",
    "BUTTON_HEIGHT = 40\n",
    "_BUTTON_LENTH = 70\n",
    "_BUTTON_HEIGHT = 20\n",
    "FLASH_BAR_LENTH = 400\n",
    "FLASH_BAR_HEIGHT = 80\n",
    "_FLASH_BAR_LENTH = 350\n",
    "_FLASH_BAR_HEIGHT = 50\n",
    "DATA_TRACK_THICKNESS = 20\n",
    "FITST_DATA_TRACK_RADIUS = 80\n",
    "DATA_TRACK_DISTANCE = 40\n",
    "DATA_TRACK_NUMBER = 5\n",
    "DATA_BIT_NUMBER_ON_DATA_TRACK = 4\n",
    "\n",
    "\n",
    "def coordinate_transform(x, y):\n",
    "    # The input is the coordinate based on the center of the lens\n",
    "    # The output is the coordinate based on the left top corner of the image\n",
    "    return x+CAMERA_WIDE/2, y+CAMERA_HEIGHT/2+FLASH_BAR_HEIGHT\n",
    "\n",
    "\n",
    "def drawRoundRec(im, color, center, w, h, r):\n",
    "    (x, y) =center\n",
    "    r *= 2\n",
    "    x -= w/2\n",
    "    y -= h/2\n",
    "    drawObject = ImageDraw.Draw(im)\n",
    "    \n",
    "    '''Rounds'''    \n",
    "    drawObject.ellipse((x,y,x+r,y+r),fill=color)    \n",
    "    drawObject.ellipse((x+w-r,y,x+w,y+r),fill=color)    \n",
    "    drawObject.ellipse((x,y+h-r,x+r,y+h),fill=color)    \n",
    "    drawObject.ellipse((x+w-r,y+h-r,x+w,y+h),fill=color)\n",
    "    \n",
    "    '''rec.s'''    \n",
    "    drawObject.rectangle((x+r/2,y, x+w-(r/2), y+h),fill=color)    \n",
    "    drawObject.rectangle((x,y+r/2, x+w, y+h-(r/2)),fill=color)\n",
    "    \n",
    "def drawRing(im, color, center, r, t):\n",
    "    (x, y) =center\n",
    "    \n",
    "    drawObject = ImageDraw.Draw(im)\n",
    "    \n",
    "    drawObject.ellipse((x-r-t/2,y-r-t/2,x+r+t/2,y+r+t/2),fill=COLOR_WHITE)\n",
    "    drawObject.ellipse((x-r+t/2,y-r+t/2,x+r-t/2,y+r-t/2),fill=color)\n",
    "    \n",
    "def drawData(im, color, center, t):\n",
    "    (x, y) =center\n",
    "    \n",
    "    drawObject = ImageDraw.Draw(im)\n",
    "    \n",
    "    drawObject.rectangle((x-t/2, y-t/2, x+t/2, y+t/2),fill=color)\n",
    "    \n",
    "def generateIcon(int_input):\n",
    "    image_wide = CAMERA_WIDE\n",
    "    image_height = CAMERA_HEIGHT + FLASH_BAR_HEIGHT\n",
    "    im = Image.new('RGBA', (image_wide, image_height+10), (255, 255, 255, 100))\n",
    "\n",
    "\n",
    "    # draw the main part of the camera\n",
    "    drawRoundRec(im, COLOR_RED, coordinate_transform(0,0), CAMERA_WIDE, CAMERA_HEIGHT, ROUND)\n",
    "\n",
    "\n",
    "    # draw flash\n",
    "    drawRoundRec(im, COLOR_WHITE, coordinate_transform(CAMERA_WIDE*3/8,-CAMERA_HEIGHT/3), FLASH_SIZE, FLASH_SIZE, ROUND)\n",
    "\n",
    "    #draw button\n",
    "    drawRoundRec(im, COLOR_RED, coordinate_transform(-CAMERA_WIDE*3/8,-CAMERA_HEIGHT/2), \n",
    "                 BUTTON_LENTH, BUTTON_HEIGHT, BUTTON_HEIGHT/2)\n",
    "\n",
    "    #draw _button\n",
    "    drawRoundRec(im, COLOR_WHITE, coordinate_transform(-CAMERA_WIDE*3/8,-CAMERA_HEIGHT/2), \n",
    "                 _BUTTON_LENTH, _BUTTON_HEIGHT, _BUTTON_HEIGHT/2)\n",
    "\n",
    "    #draw flash bar\n",
    "    drawRoundRec(im, COLOR_RED, coordinate_transform(0,-CAMERA_HEIGHT/2), \n",
    "                 FLASH_BAR_LENTH, FLASH_BAR_HEIGHT, FLASH_BAR_HEIGHT/2)\n",
    "\n",
    "    #draw _flash bar\n",
    "    drawRoundRec(im, COLOR_WHITE, coordinate_transform(0,-CAMERA_HEIGHT/2), \n",
    "                 _FLASH_BAR_LENTH, _FLASH_BAR_HEIGHT, _FLASH_BAR_HEIGHT/2)\n",
    "\n",
    "    #draw data tracks\n",
    "    for i in range(DATA_TRACK_NUMBER, 0, -1):\n",
    "        drawRing(im, COLOR_RED, coordinate_transform(0,0), FITST_DATA_TRACK_RADIUS+(i-1)*DATA_TRACK_DISTANCE, DATA_TRACK_THICKNESS)\n",
    "\n",
    "    # draw lens\n",
    "    drawRoundRec(im, COLOR_WHITE, coordinate_transform(0,0), LENS_SIZE, LENS_SIZE, ROUND)\n",
    "\n",
    "    # draw data\n",
    "    bin_input = int(bin(int_input)[2:])\n",
    "    for i in range(len(str(bin_input))):\n",
    "        bit = bin_input%10\n",
    "        bin_input = int(bin_input/10)\n",
    "\n",
    "        if bit: \n",
    "            num_data_track = int(i/DATA_BIT_NUMBER_ON_DATA_TRACK)\n",
    "            data_position = i % DATA_BIT_NUMBER_ON_DATA_TRACK\n",
    "\n",
    "            r = FITST_DATA_TRACK_RADIUS+num_data_track*DATA_TRACK_DISTANCE\n",
    "\n",
    "            x = r * cos(data_position*2*pi/DATA_BIT_NUMBER_ON_DATA_TRACK)\n",
    "            y = r * sin(data_position*2*pi/DATA_BIT_NUMBER_ON_DATA_TRACK)\n",
    "\n",
    "            drawData(im, COLOR_RED, coordinate_transform(x,y), DATA_TRACK_THICKNESS*2)\n",
    "\n",
    "    im_name = 'images/'+str(int_input)+'.png'\n",
    "    save_im_name = 'media/'+im_name\n",
    "    im.save(save_im_name)\n",
    "\n",
    "    %matplotlib inline\n",
    "    imshow(np.asarray(im))\n",
    "    \n",
    "    return im_name\n",
    "# generateIcon(100)"
   ]
  },
  {
   "cell_type": "code",
   "execution_count": 3,
   "metadata": {},
   "outputs": [],
   "source": [
    "import sqlite3\n",
    "import pandas\n",
    "\n",
    "pconn = sqlite3.connect('db.sqlite3')\n",
    "df_t1 = pandas.read_sql('SELECT * FROM NudgeTVURLInputs', pconn)\n",
    "df_t2 = pandas.read_sql('SELECT * FROM NudgeTVIcons', pconn)\n",
    "\n",
    "if df_t2.empty or df_t1.shape[0] > df_t2.shape[0]:\n",
    "    for i in range(df_t2.shape[0], df_t1.shape[0]):\n",
    "        text = df_t1['urls_text'][i]\n",
    "        text_UTM = URL_encoding(text)\n",
    "        text_short = Short_encoding(text_UTM, b)\n",
    "        assigned_id = df_t1.at[i, 'id']\n",
    "        im_name = generateIcon(assigned_id)\n",
    "        add_row = pandas.DataFrame({'urls_input_id': [assigned_id],\n",
    "                                   'urls_UTM': [text_UTM], 'urls_shortened': [text_short],\n",
    "                                   'assigned_id': [assigned_id], 'icon_image': [im_name]})\n",
    "        add_row.to_sql('NudgeTVIcons', pconn, if_exists='append')\n",
    "pconn.close()"
   ]
  },
  {
   "cell_type": "code",
   "execution_count": 21,
   "metadata": {},
   "outputs": [],
   "source": [
    "pconn = sqlite3.connect('db.sqlite3')\n",
    "df_t1 = pandas.read_sql('SELECT * FROM NudgeTVURLInputs', pconn)\n",
    "df_t2 = pandas.read_sql('SELECT * FROM NudgeTVIcons', pconn)"
   ]
  },
  {
   "cell_type": "code",
   "execution_count": 22,
   "metadata": {},
   "outputs": [
    {
     "data": {
      "text/html": [
       "<div>\n",
       "<style>\n",
       "    .dataframe thead tr:only-child th {\n",
       "        text-align: right;\n",
       "    }\n",
       "\n",
       "    .dataframe thead th {\n",
       "        text-align: left;\n",
       "    }\n",
       "\n",
       "    .dataframe tbody tr th {\n",
       "        vertical-align: top;\n",
       "    }\n",
       "</style>\n",
       "<table border=\"1\" class=\"dataframe\">\n",
       "  <thead>\n",
       "    <tr style=\"text-align: right;\">\n",
       "      <th></th>\n",
       "      <th>id</th>\n",
       "      <th>urls_text</th>\n",
       "      <th>pub_date</th>\n",
       "    </tr>\n",
       "  </thead>\n",
       "  <tbody>\n",
       "    <tr>\n",
       "      <th>0</th>\n",
       "      <td>4</td>\n",
       "      <td>https://www.nudgetv.com/</td>\n",
       "      <td>2019-08-23 04:56:46</td>\n",
       "    </tr>\n",
       "    <tr>\n",
       "      <th>1</th>\n",
       "      <td>5</td>\n",
       "      <td>https://www.nudgetv.com/about</td>\n",
       "      <td>2019-08-23 04:57:10</td>\n",
       "    </tr>\n",
       "  </tbody>\n",
       "</table>\n",
       "</div>"
      ],
      "text/plain": [
       "   id                      urls_text             pub_date\n",
       "0   4       https://www.nudgetv.com/  2019-08-23 04:56:46\n",
       "1   5  https://www.nudgetv.com/about  2019-08-23 04:57:10"
      ]
     },
     "execution_count": 22,
     "metadata": {},
     "output_type": "execute_result"
    }
   ],
   "source": [
    "df_t1"
   ]
  },
  {
   "cell_type": "code",
   "execution_count": 23,
   "metadata": {},
   "outputs": [
    {
     "data": {
      "text/html": [
       "<div>\n",
       "<style>\n",
       "    .dataframe thead tr:only-child th {\n",
       "        text-align: right;\n",
       "    }\n",
       "\n",
       "    .dataframe thead th {\n",
       "        text-align: left;\n",
       "    }\n",
       "\n",
       "    .dataframe tbody tr th {\n",
       "        vertical-align: top;\n",
       "    }\n",
       "</style>\n",
       "<table border=\"1\" class=\"dataframe\">\n",
       "  <thead>\n",
       "    <tr style=\"text-align: right;\">\n",
       "      <th></th>\n",
       "      <th>index</th>\n",
       "      <th>assigned_id</th>\n",
       "      <th>icon_image</th>\n",
       "      <th>urls_UTM</th>\n",
       "      <th>urls_input_id</th>\n",
       "      <th>urls_shortened</th>\n",
       "    </tr>\n",
       "  </thead>\n",
       "  <tbody>\n",
       "    <tr>\n",
       "      <th>0</th>\n",
       "      <td>0</td>\n",
       "      <td>4</td>\n",
       "      <td>images/4.png</td>\n",
       "      <td>https://www.nudgetv.com/?utm_source=nudgetv.co...</td>\n",
       "      <td>4</td>\n",
       "      <td>http://bit.ly/31M3Z7J</td>\n",
       "    </tr>\n",
       "    <tr>\n",
       "      <th>1</th>\n",
       "      <td>0</td>\n",
       "      <td>5</td>\n",
       "      <td>images/5.png</td>\n",
       "      <td>https://www.nudgetv.com/?utm_source=nudgetv.co...</td>\n",
       "      <td>5</td>\n",
       "      <td>http://bit.ly/31M3Z7J</td>\n",
       "    </tr>\n",
       "  </tbody>\n",
       "</table>\n",
       "</div>"
      ],
      "text/plain": [
       "   index  assigned_id    icon_image  \\\n",
       "0      0            4  images/4.png   \n",
       "1      0            5  images/5.png   \n",
       "\n",
       "                                            urls_UTM  urls_input_id  \\\n",
       "0  https://www.nudgetv.com/?utm_source=nudgetv.co...              4   \n",
       "1  https://www.nudgetv.com/?utm_source=nudgetv.co...              5   \n",
       "\n",
       "          urls_shortened  \n",
       "0  http://bit.ly/31M3Z7J  \n",
       "1  http://bit.ly/31M3Z7J  "
      ]
     },
     "execution_count": 23,
     "metadata": {},
     "output_type": "execute_result"
    }
   ],
   "source": [
    "df_t2"
   ]
  },
  {
   "cell_type": "code",
   "execution_count": 25,
   "metadata": {},
   "outputs": [
    {
     "data": {
      "text/plain": [
       "'https://www.nudgetv.com/about'"
      ]
     },
     "execution_count": 25,
     "metadata": {},
     "output_type": "execute_result"
    }
   ],
   "source": [
    "df_t1['urls_text'][1]"
   ]
  },
  {
   "cell_type": "code",
   "execution_count": 17,
   "metadata": {},
   "outputs": [
    {
     "data": {
      "text/plain": [
       "4"
      ]
     },
     "execution_count": 17,
     "metadata": {},
     "output_type": "execute_result"
    }
   ],
   "source": [
    "assigned_id"
   ]
  },
  {
   "cell_type": "code",
   "execution_count": null,
   "metadata": {
    "collapsed": true
   },
   "outputs": [],
   "source": []
  }
 ],
 "metadata": {
  "kernelspec": {
   "display_name": "Python 3",
   "language": "python",
   "name": "python3"
  },
  "language_info": {
   "codemirror_mode": {
    "name": "ipython",
    "version": 3
   },
   "file_extension": ".py",
   "mimetype": "text/x-python",
   "name": "python",
   "nbconvert_exporter": "python",
   "pygments_lexer": "ipython3",
   "version": "3.6.3"
  }
 },
 "nbformat": 4,
 "nbformat_minor": 2
}
